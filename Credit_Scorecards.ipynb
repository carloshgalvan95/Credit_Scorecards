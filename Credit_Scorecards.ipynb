{
 "cells": [
  {
   "cell_type": "code",
   "execution_count": 122,
   "id": "7e32fec3",
   "metadata": {
    "ExecuteTime": {
     "end_time": "2023-05-12T20:49:08.646179Z",
     "start_time": "2023-05-12T20:49:04.834016Z"
    }
   },
   "outputs": [
    {
     "name": "stdout",
     "output_type": "stream",
     "text": [
      "Collecting xgboost\n",
      "  Downloading xgboost-1.6.2-py3-none-macosx_10_15_x86_64.macosx_11_0_x86_64.macosx_12_0_x86_64.whl (1.7 MB)\n",
      "\u001b[2K     \u001b[38;2;114;156;31m━━━━━━━━━━━━━━━━━━━━━━━━━━━━━━━━━━━━━━━━\u001b[0m \u001b[32m1.7/1.7 MB\u001b[0m \u001b[31m6.1 MB/s\u001b[0m eta \u001b[36m0:00:00\u001b[0m[31m5.7 MB/s\u001b[0m eta \u001b[36m0:00:01\u001b[0m\n",
      "\u001b[?25hRequirement already satisfied: numpy in /Users/carloshgalvan/opt/anaconda3/envs/mlenv/lib/python3.7/site-packages (from xgboost) (1.21.5)\n",
      "Requirement already satisfied: scipy in /Users/carloshgalvan/opt/anaconda3/envs/mlenv/lib/python3.7/site-packages (from xgboost) (1.7.3)\n",
      "Installing collected packages: xgboost\n",
      "Successfully installed xgboost-1.6.2\n",
      "Note: you may need to restart the kernel to use updated packages.\n"
     ]
    }
   ],
   "source": [
    "pip install xgboost"
   ]
  },
  {
   "cell_type": "markdown",
   "id": "2b8123c6",
   "metadata": {},
   "source": [
    "# Problem to Analyze\n",
    "##  How would you build a scorecard system?"
   ]
  },
  {
   "cell_type": "markdown",
   "id": "53fd633b",
   "metadata": {},
   "source": [
    "1. Clarify\n",
    "---\n",
    "In order to define the approach to be taken in a better way, first I would like to ask some questions about the scenario. \n",
    "\n",
    "What would be the purpose of the scorecards, would it be use to incentivize usage, to try to minize the default rate of the clients or to mantain client loyalty?\n",
    "\n",
    "\n",
    "2. Constrain\n",
    "---\n",
    "I would also like to know if we have categorical binary label or if there is already a scorecard system in operation with defined buckets.\n",
    "\n",
    "Also, one important question to define the approach is if there is any defined target for the loss and coverage that we need to guarantee.\n",
    "\n",
    "3. Plan\n",
    "---\n",
    "The approach that I would like to take, given that there are no set labels or scorecard groups is to use the data we have with some potential key characteristic of the client group, those being:\n",
    "\n",
    "    - age\n",
    "    - marriage \n",
    "    - if he or she has kids\n",
    "    - salary\n",
    "    - properties owned\n",
    "    - amount of monthly bills to pay\n",
    "    - scholarity\n",
    "    - job field\n",
    "    - how many years has he or she been working in his current job\n",
    "    - Amount of credit requested\n",
    "    - Loan duration\n",
    "    \n",
    "4. Method\n",
    "---\n",
    "\n",
    "Given that we have historical data with client and billing information as well as a define label that classifies the clients as defaulting or not.\n",
    "\n",
    "What I would do is use a classifier model, we could use K-means algorithm or hierarchical classification or try to implement a random forest classifier. As well as trying to implement a neural network being wary of possible overfitting. \n",
    "\n",
    "In order to prepare the data first I would clean it, then to evaluate the features, I see that we have some columns such as age that will work better if we create age buckets with our neural network. After bucketing, standardizing and normalizing the data I would perform feature engineering to evaluate the importance of those variables as well.\n",
    "\n",
    "5. Conclude\n",
    "---"
   ]
  },
  {
   "cell_type": "markdown",
   "id": "1a6ffe8b",
   "metadata": {},
   "source": [
    "# Import Dependencies"
   ]
  },
  {
   "cell_type": "code",
   "execution_count": 125,
   "id": "b7d2d2ad",
   "metadata": {
    "ExecuteTime": {
     "end_time": "2023-05-12T20:52:47.171586Z",
     "start_time": "2023-05-12T20:52:46.234208Z"
    }
   },
   "outputs": [],
   "source": [
    "# Import Dependencies for Data Processing\n",
    "import pandas as pd\n",
    "import numpy as np\n",
    "import matplotlib.pyplot as plt\n",
    "\n",
    "# Import Dependencies for visualization\n",
    "import seaborn as sns\n",
    "\n",
    "# Import Dependencies for the model\n",
    "from sklearn.model_selection import train_test_split\n",
    "from sklearn.preprocessing import StandardScaler\n",
    "from sklearn.decomposition import PCA\n",
    "from sklearn.linear_model import LogisticRegression\n",
    "from sklearn.metrics import classification_report\n",
    "from sklearn.metrics import confusion_matrix\n",
    "from sklearn.metrics import roc_curve, roc_auc_score\n",
    "from sklearn.metrics import accuracy_score, roc_auc_score\n",
    "\n",
    "from sklearn.model_selection import GridSearchCV\n",
    "from sklearn.linear_model import LogisticRegression\n",
    "import xgboost as xgb\n",
    "\n",
    "# Import Dependencies for sampling the data\n",
    "from imblearn.over_sampling import RandomOverSampler, SMOTE\n",
    "from imblearn.under_sampling import RandomUnderSampler, ClusterCentroids\n",
    "from imblearn.combine import SMOTEENN"
   ]
  },
  {
   "cell_type": "markdown",
   "id": "05493b50",
   "metadata": {},
   "source": [
    "## Define Functions"
   ]
  },
  {
   "cell_type": "code",
   "execution_count": 62,
   "id": "18282cec",
   "metadata": {
    "ExecuteTime": {
     "end_time": "2023-05-12T19:59:16.892862Z",
     "start_time": "2023-05-12T19:59:16.878931Z"
    }
   },
   "outputs": [],
   "source": [
    "# Remove Outliers\n",
    "def remove_outliers(data, columns, z_threshold=3):\n",
    "    \"\"\"\n",
    "    Remove outliers from specific columns of a DataFrame using the z-score method.\n",
    "\n",
    "    Args:\n",
    "        data (pd.DataFrame): The DataFrame containing the data.\n",
    "        columns (list): A list of column names to remove outliers from.\n",
    "        z_threshold (float): The z-score threshold for identifying outliers. Default is 3.\n",
    "\n",
    "    Returns:\n",
    "        pd.DataFrame: The DataFrame with outliers removed from the specified columns.\n",
    "    \"\"\"\n",
    "    data_cleaned = data.copy()\n",
    "\n",
    "    for column in columns:\n",
    "        z_scores = np.abs((data_cleaned[column] - data_cleaned[column].mean()) / data_cleaned[column].std())\n",
    "        outliers = data_cleaned[z_scores > z_threshold]\n",
    "\n",
    "        data_cleaned = data_cleaned.drop(outliers.index)\n",
    "\n",
    "    return data_cleaned"
   ]
  },
  {
   "cell_type": "code",
   "execution_count": 63,
   "id": "2e7f9191",
   "metadata": {
    "ExecuteTime": {
     "end_time": "2023-05-12T19:59:17.308927Z",
     "start_time": "2023-05-12T19:59:17.291656Z"
    }
   },
   "outputs": [],
   "source": [
    "# Sampling Technique \n",
    "def perform_sampling(X, y, method):\n",
    "    if method == 'undersampling':\n",
    "        sampler = RandomUnderSampler()\n",
    "        X_resampled, y_resampled = sampler.fit_resample(X, y)\n",
    "\n",
    "    elif method == 'oversampling':\n",
    "        sampler = RandomOverSampler()\n",
    "        X_resampled, y_resampled = sampler.fit_resample(X, y)\n",
    "\n",
    "    elif method == 'combination':\n",
    "        sampler = SMOTEENN()\n",
    "        X_resampled, y_resampled = sampler.fit_resample(X, y)\n",
    "\n",
    "    elif method == 'smote':\n",
    "        sampler = SMOTE()\n",
    "        X_resampled, y_resampled = sampler.fit_resample(X, y)\n",
    "\n",
    "    elif method == 'cluster_centroids':\n",
    "        sampler = ClusterCentroids()\n",
    "        X_resampled, y_resampled = sampler.fit_resample(X, y)\n",
    "\n",
    "    else:\n",
    "        raise ValueError(\"Invalid sampling technique specified.\")\n",
    "\n",
    "    return X_resampled, y_resampled"
   ]
  },
  {
   "cell_type": "code",
   "execution_count": 64,
   "id": "3690a53d",
   "metadata": {
    "ExecuteTime": {
     "end_time": "2023-05-12T19:59:17.740254Z",
     "start_time": "2023-05-12T19:59:17.723924Z"
    }
   },
   "outputs": [],
   "source": [
    "# Determine the number of bins\n",
    "def determine_num_bins(data, method='sqrt'):\n",
    "    \"\"\"\n",
    "    Determine the number of bins for multiple columns in a DataFrame using the square root rule, Sturges' formula, or the Freedman-Diaconis rule.\n",
    "\n",
    "    Args:\n",
    "        data (pd.DataFrame): The DataFrame containing the data.\n",
    "        method (str): The method to use for determining the number of bins. Possible values: 'sqrt', 'sturges', 'freedman-diaconis'.\n",
    "\n",
    "    Returns:\n",
    "        dict: A dictionary mapping column names to the number of bins determined by the specified method.\n",
    "    \"\"\"\n",
    "    num_bins_dict = {}\n",
    "\n",
    "    for column in data.columns:\n",
    "        column_data = data[column]\n",
    "\n",
    "        if method == 'sqrt':\n",
    "            num_bins = int(np.sqrt(len(column_data)))\n",
    "        elif method == 'sturges':\n",
    "            num_bins = int(np.ceil(np.log2(len(column_data)) + 1))\n",
    "        elif method == 'freedman-diaconis':\n",
    "            unique_values = len(column_data.unique())\n",
    "            iqr = np.percentile(column_data, 75) - np.percentile(column_data, 25)\n",
    "\n",
    "            # Check if the IQR is zero or the number of unique values is less than or equal to 1\n",
    "            if iqr == 0 or unique_values <= 1:\n",
    "                num_bins = 1  # Set the number of bins to 1\n",
    "            else:\n",
    "                bin_width = 2 * iqr / np.power(unique_values, 1/3)\n",
    "                num_bins = int(np.ceil((column_data.max() - column_data.min()) / bin_width))\n",
    "        else:\n",
    "            raise ValueError(\"Invalid method specified. Supported methods: 'sqrt', 'sturges', 'freedman-diaconis'.\")\n",
    "\n",
    "        num_bins_dict[column] = num_bins\n",
    "\n",
    "    return num_bins_dict"
   ]
  },
  {
   "cell_type": "code",
   "execution_count": 65,
   "id": "bbb22b46",
   "metadata": {
    "ExecuteTime": {
     "end_time": "2023-05-12T19:59:19.084980Z",
     "start_time": "2023-05-12T19:59:19.074600Z"
    }
   },
   "outputs": [],
   "source": [
    "# Equal Frequency feature binning\n",
    "def equal_frequency_binning(data, features, num_bins_dict):\n",
    "    \"\"\"\n",
    "    Perform equal frequency binning on numerical features in a DataFrame.\n",
    "\n",
    "    Args:\n",
    "        data (pd.DataFrame): The DataFrame containing the data.\n",
    "        features (list): A list of column names to be binned.\n",
    "        num_bins_dict (dict): A dictionary mapping column names to the desired number of bins.\n",
    "\n",
    "    Returns:\n",
    "        pd.DataFrame: The DataFrame with the binned features and dropped original columns.\n",
    "    \"\"\"\n",
    "    data_binned = data.copy()\n",
    "\n",
    "    for feature in features:\n",
    "        num_bins = num_bins_dict.get(feature, 1)\n",
    "\n",
    "        bin_size = len(data_binned) // num_bins\n",
    "\n",
    "        data_binned.sort_values(by=feature, inplace=True)\n",
    "\n",
    "        data_binned[feature + '_bin'] = pd.qcut(data_binned[feature], q=num_bins, labels=False, duplicates='drop')\n",
    "\n",
    "        data_binned.drop(columns=feature, inplace=True)\n",
    "\n",
    "    return data_binned"
   ]
  },
  {
   "cell_type": "code",
   "execution_count": 76,
   "id": "804cd51f",
   "metadata": {
    "ExecuteTime": {
     "end_time": "2023-05-12T20:19:47.704820Z",
     "start_time": "2023-05-12T20:19:47.681044Z"
    }
   },
   "outputs": [],
   "source": [
    "# Perform PCA\n",
    "def perform_pca(X, explained_variance_threshold=0.95):\n",
    "    \"\"\"\n",
    "    Perform PCA on the input data and determine the number of components to keep based on the explained variance threshold.\n",
    "\n",
    "    Args:\n",
    "        X (numpy.ndarray or pandas.DataFrame): The input features for PCA.\n",
    "        explained_variance_threshold (float): The desired cumulative explained variance threshold.\n",
    "                                              Default is 0.95, indicating to retain components that explain at least 95% of the variance.\n",
    "\n",
    "    Returns:\n",
    "        pandas.DataFrame: The transformed data after PCA is applied with proper column names.\n",
    "        int: The optimal number of components to retain.\n",
    "\n",
    "    \"\"\"\n",
    "    # Initialize PCA\n",
    "    pca = PCA()\n",
    "\n",
    "    # Fit PCA on the features\n",
    "    pca.fit(X)\n",
    "\n",
    "    # Calculate cumulative explained variance ratio\n",
    "    cumulative_variance = np.cumsum(pca.explained_variance_ratio_)\n",
    "\n",
    "    # Determine the number of components that meet the explained variance threshold\n",
    "    num_components = np.argmax(cumulative_variance >= explained_variance_threshold) + 1\n",
    "\n",
    "    # Perform PCA with the determined number of components\n",
    "    pca = PCA(n_components=num_components)\n",
    "    transformed_data = pca.fit_transform(X)\n",
    "\n",
    "    # Create column names for the transformed features\n",
    "    column_names = [f\"PC_{i+1}\" for i in range(num_components)]\n",
    "\n",
    "    # Create a DataFrame with the transformed features and column names\n",
    "    transformed_df = pd.DataFrame(transformed_data, columns=column_names)\n",
    "\n",
    "    return transformed_df, num_components"
   ]
  },
  {
   "cell_type": "markdown",
   "id": "c5b4999d",
   "metadata": {},
   "source": [
    "# Data Exploration"
   ]
  },
  {
   "cell_type": "code",
   "execution_count": 2,
   "id": "80c2efc7",
   "metadata": {
    "ExecuteTime": {
     "end_time": "2023-05-12T04:14:14.774871Z",
     "start_time": "2023-05-12T04:14:14.668280Z"
    }
   },
   "outputs": [
    {
     "data": {
      "text/html": [
       "<div>\n",
       "<style scoped>\n",
       "    .dataframe tbody tr th:only-of-type {\n",
       "        vertical-align: middle;\n",
       "    }\n",
       "\n",
       "    .dataframe tbody tr th {\n",
       "        vertical-align: top;\n",
       "    }\n",
       "\n",
       "    .dataframe thead th {\n",
       "        text-align: right;\n",
       "    }\n",
       "</style>\n",
       "<table border=\"1\" class=\"dataframe\">\n",
       "  <thead>\n",
       "    <tr style=\"text-align: right;\">\n",
       "      <th></th>\n",
       "      <th>ID</th>\n",
       "      <th>LIMIT_BAL</th>\n",
       "      <th>SEX</th>\n",
       "      <th>EDUCATION</th>\n",
       "      <th>MARRIAGE</th>\n",
       "      <th>AGE</th>\n",
       "      <th>PAY_0</th>\n",
       "      <th>PAY_2</th>\n",
       "      <th>PAY_3</th>\n",
       "      <th>PAY_4</th>\n",
       "      <th>...</th>\n",
       "      <th>BILL_AMT4</th>\n",
       "      <th>BILL_AMT5</th>\n",
       "      <th>BILL_AMT6</th>\n",
       "      <th>PAY_AMT1</th>\n",
       "      <th>PAY_AMT2</th>\n",
       "      <th>PAY_AMT3</th>\n",
       "      <th>PAY_AMT4</th>\n",
       "      <th>PAY_AMT5</th>\n",
       "      <th>PAY_AMT6</th>\n",
       "      <th>default.payment.next.month</th>\n",
       "    </tr>\n",
       "  </thead>\n",
       "  <tbody>\n",
       "    <tr>\n",
       "      <th>0</th>\n",
       "      <td>1</td>\n",
       "      <td>20000.0</td>\n",
       "      <td>2</td>\n",
       "      <td>2</td>\n",
       "      <td>1</td>\n",
       "      <td>24</td>\n",
       "      <td>2</td>\n",
       "      <td>2</td>\n",
       "      <td>-1</td>\n",
       "      <td>-1</td>\n",
       "      <td>...</td>\n",
       "      <td>0.0</td>\n",
       "      <td>0.0</td>\n",
       "      <td>0.0</td>\n",
       "      <td>0.0</td>\n",
       "      <td>689.0</td>\n",
       "      <td>0.0</td>\n",
       "      <td>0.0</td>\n",
       "      <td>0.0</td>\n",
       "      <td>0.0</td>\n",
       "      <td>1</td>\n",
       "    </tr>\n",
       "    <tr>\n",
       "      <th>1</th>\n",
       "      <td>2</td>\n",
       "      <td>120000.0</td>\n",
       "      <td>2</td>\n",
       "      <td>2</td>\n",
       "      <td>2</td>\n",
       "      <td>26</td>\n",
       "      <td>-1</td>\n",
       "      <td>2</td>\n",
       "      <td>0</td>\n",
       "      <td>0</td>\n",
       "      <td>...</td>\n",
       "      <td>3272.0</td>\n",
       "      <td>3455.0</td>\n",
       "      <td>3261.0</td>\n",
       "      <td>0.0</td>\n",
       "      <td>1000.0</td>\n",
       "      <td>1000.0</td>\n",
       "      <td>1000.0</td>\n",
       "      <td>0.0</td>\n",
       "      <td>2000.0</td>\n",
       "      <td>1</td>\n",
       "    </tr>\n",
       "    <tr>\n",
       "      <th>2</th>\n",
       "      <td>3</td>\n",
       "      <td>90000.0</td>\n",
       "      <td>2</td>\n",
       "      <td>2</td>\n",
       "      <td>2</td>\n",
       "      <td>34</td>\n",
       "      <td>0</td>\n",
       "      <td>0</td>\n",
       "      <td>0</td>\n",
       "      <td>0</td>\n",
       "      <td>...</td>\n",
       "      <td>14331.0</td>\n",
       "      <td>14948.0</td>\n",
       "      <td>15549.0</td>\n",
       "      <td>1518.0</td>\n",
       "      <td>1500.0</td>\n",
       "      <td>1000.0</td>\n",
       "      <td>1000.0</td>\n",
       "      <td>1000.0</td>\n",
       "      <td>5000.0</td>\n",
       "      <td>0</td>\n",
       "    </tr>\n",
       "    <tr>\n",
       "      <th>3</th>\n",
       "      <td>4</td>\n",
       "      <td>50000.0</td>\n",
       "      <td>2</td>\n",
       "      <td>2</td>\n",
       "      <td>1</td>\n",
       "      <td>37</td>\n",
       "      <td>0</td>\n",
       "      <td>0</td>\n",
       "      <td>0</td>\n",
       "      <td>0</td>\n",
       "      <td>...</td>\n",
       "      <td>28314.0</td>\n",
       "      <td>28959.0</td>\n",
       "      <td>29547.0</td>\n",
       "      <td>2000.0</td>\n",
       "      <td>2019.0</td>\n",
       "      <td>1200.0</td>\n",
       "      <td>1100.0</td>\n",
       "      <td>1069.0</td>\n",
       "      <td>1000.0</td>\n",
       "      <td>0</td>\n",
       "    </tr>\n",
       "    <tr>\n",
       "      <th>4</th>\n",
       "      <td>5</td>\n",
       "      <td>50000.0</td>\n",
       "      <td>1</td>\n",
       "      <td>2</td>\n",
       "      <td>1</td>\n",
       "      <td>57</td>\n",
       "      <td>-1</td>\n",
       "      <td>0</td>\n",
       "      <td>-1</td>\n",
       "      <td>0</td>\n",
       "      <td>...</td>\n",
       "      <td>20940.0</td>\n",
       "      <td>19146.0</td>\n",
       "      <td>19131.0</td>\n",
       "      <td>2000.0</td>\n",
       "      <td>36681.0</td>\n",
       "      <td>10000.0</td>\n",
       "      <td>9000.0</td>\n",
       "      <td>689.0</td>\n",
       "      <td>679.0</td>\n",
       "      <td>0</td>\n",
       "    </tr>\n",
       "  </tbody>\n",
       "</table>\n",
       "<p>5 rows × 25 columns</p>\n",
       "</div>"
      ],
      "text/plain": [
       "   ID  LIMIT_BAL  SEX  EDUCATION  MARRIAGE  AGE  PAY_0  PAY_2  PAY_3  PAY_4  \\\n",
       "0   1    20000.0    2          2         1   24      2      2     -1     -1   \n",
       "1   2   120000.0    2          2         2   26     -1      2      0      0   \n",
       "2   3    90000.0    2          2         2   34      0      0      0      0   \n",
       "3   4    50000.0    2          2         1   37      0      0      0      0   \n",
       "4   5    50000.0    1          2         1   57     -1      0     -1      0   \n",
       "\n",
       "   ...  BILL_AMT4  BILL_AMT5  BILL_AMT6  PAY_AMT1  PAY_AMT2  PAY_AMT3  \\\n",
       "0  ...        0.0        0.0        0.0       0.0     689.0       0.0   \n",
       "1  ...     3272.0     3455.0     3261.0       0.0    1000.0    1000.0   \n",
       "2  ...    14331.0    14948.0    15549.0    1518.0    1500.0    1000.0   \n",
       "3  ...    28314.0    28959.0    29547.0    2000.0    2019.0    1200.0   \n",
       "4  ...    20940.0    19146.0    19131.0    2000.0   36681.0   10000.0   \n",
       "\n",
       "   PAY_AMT4  PAY_AMT5  PAY_AMT6  default.payment.next.month  \n",
       "0       0.0       0.0       0.0                           1  \n",
       "1    1000.0       0.0    2000.0                           1  \n",
       "2    1000.0    1000.0    5000.0                           0  \n",
       "3    1100.0    1069.0    1000.0                           0  \n",
       "4    9000.0     689.0     679.0                           0  \n",
       "\n",
       "[5 rows x 25 columns]"
      ]
     },
     "execution_count": 2,
     "metadata": {},
     "output_type": "execute_result"
    }
   ],
   "source": [
    "# Declare file path variable\n",
    "file_path = 'resources/UCI_Credit_Card.csv'\n",
    "\n",
    "# Read data\n",
    "credit_df = pd.read_csv(file_path)\n",
    "credit_df.head()"
   ]
  },
  {
   "cell_type": "markdown",
   "id": "7ca9948a",
   "metadata": {},
   "source": [
    "## Dataset Shape"
   ]
  },
  {
   "cell_type": "code",
   "execution_count": 3,
   "id": "90ed99d1",
   "metadata": {
    "ExecuteTime": {
     "end_time": "2023-05-12T04:14:17.678055Z",
     "start_time": "2023-05-12T04:14:17.644826Z"
    }
   },
   "outputs": [
    {
     "name": "stdout",
     "output_type": "stream",
     "text": [
      "<class 'pandas.core.frame.DataFrame'>\n",
      "RangeIndex: 30000 entries, 0 to 29999\n",
      "Data columns (total 25 columns):\n",
      " #   Column                      Non-Null Count  Dtype  \n",
      "---  ------                      --------------  -----  \n",
      " 0   ID                          30000 non-null  int64  \n",
      " 1   LIMIT_BAL                   30000 non-null  float64\n",
      " 2   SEX                         30000 non-null  int64  \n",
      " 3   EDUCATION                   30000 non-null  int64  \n",
      " 4   MARRIAGE                    30000 non-null  int64  \n",
      " 5   AGE                         30000 non-null  int64  \n",
      " 6   PAY_0                       30000 non-null  int64  \n",
      " 7   PAY_2                       30000 non-null  int64  \n",
      " 8   PAY_3                       30000 non-null  int64  \n",
      " 9   PAY_4                       30000 non-null  int64  \n",
      " 10  PAY_5                       30000 non-null  int64  \n",
      " 11  PAY_6                       30000 non-null  int64  \n",
      " 12  BILL_AMT1                   30000 non-null  float64\n",
      " 13  BILL_AMT2                   30000 non-null  float64\n",
      " 14  BILL_AMT3                   30000 non-null  float64\n",
      " 15  BILL_AMT4                   30000 non-null  float64\n",
      " 16  BILL_AMT5                   30000 non-null  float64\n",
      " 17  BILL_AMT6                   30000 non-null  float64\n",
      " 18  PAY_AMT1                    30000 non-null  float64\n",
      " 19  PAY_AMT2                    30000 non-null  float64\n",
      " 20  PAY_AMT3                    30000 non-null  float64\n",
      " 21  PAY_AMT4                    30000 non-null  float64\n",
      " 22  PAY_AMT5                    30000 non-null  float64\n",
      " 23  PAY_AMT6                    30000 non-null  float64\n",
      " 24  default.payment.next.month  30000 non-null  int64  \n",
      "dtypes: float64(13), int64(12)\n",
      "memory usage: 5.7 MB\n"
     ]
    }
   ],
   "source": [
    "credit_df.info()"
   ]
  },
  {
   "cell_type": "markdown",
   "id": "e573c60e",
   "metadata": {},
   "source": [
    "By analyzing our dataset shape we can see that we have one categorical value that will be our label, default.payment.next.month. The columns we have to work with can be divided into the following categories:\n",
    "- Client Information\n",
    "    - ID\n",
    "    - SEX\n",
    "    - EDUCATION\n",
    "    - MARRIAGE\n",
    "    - AGE\n",
    "- Billing Information\n",
    "    - Balance Limit\n",
    "    - Amount of bill statement\n",
    "    - Amount of previous payment\n",
    "    - Repayment\n",
    "- Default Label\n",
    "    - default.payment.next.month\n",
    "    \n",
    "We also see that we don't have any missing data on any of our columns"
   ]
  },
  {
   "cell_type": "code",
   "execution_count": 23,
   "id": "874ff559",
   "metadata": {
    "ExecuteTime": {
     "end_time": "2023-05-12T18:33:40.734842Z",
     "start_time": "2023-05-12T18:33:40.667725Z"
    },
    "scrolled": false
   },
   "outputs": [
    {
     "data": {
      "text/plain": [
       "ID                            30000\n",
       "LIMIT_BAL                        81\n",
       "SEX                               2\n",
       "EDUCATION                         7\n",
       "MARRIAGE                          4\n",
       "AGE                              56\n",
       "PAY_0                            11\n",
       "PAY_2                            11\n",
       "PAY_3                            11\n",
       "PAY_4                            11\n",
       "PAY_5                            10\n",
       "PAY_6                            10\n",
       "BILL_AMT1                     22723\n",
       "BILL_AMT2                     22346\n",
       "BILL_AMT3                     22026\n",
       "BILL_AMT4                     21548\n",
       "BILL_AMT5                     21010\n",
       "BILL_AMT6                     20604\n",
       "PAY_AMT1                       7943\n",
       "PAY_AMT2                       7899\n",
       "PAY_AMT3                       7518\n",
       "PAY_AMT4                       6937\n",
       "PAY_AMT5                       6897\n",
       "PAY_AMT6                       6939\n",
       "default.payment.next.month        2\n",
       "dtype: int64"
      ]
     },
     "execution_count": 23,
     "metadata": {},
     "output_type": "execute_result"
    }
   ],
   "source": [
    "credit_df.nunique()"
   ]
  },
  {
   "cell_type": "code",
   "execution_count": 66,
   "id": "eb41c923",
   "metadata": {
    "ExecuteTime": {
     "end_time": "2023-05-12T20:04:24.791545Z",
     "start_time": "2023-05-12T20:04:24.749006Z"
    }
   },
   "outputs": [],
   "source": [
    "# Drop the ID column\n",
    "credit_df.drop('ID', axis=1, inplace=True)"
   ]
  },
  {
   "cell_type": "code",
   "execution_count": 10,
   "id": "1b22ae91",
   "metadata": {
    "ExecuteTime": {
     "end_time": "2023-05-12T04:17:22.986853Z",
     "start_time": "2023-05-12T04:17:22.854528Z"
    }
   },
   "outputs": [
    {
     "data": {
      "text/plain": [
       "<AxesSubplot:ylabel='default.payment.next.month'>"
      ]
     },
     "execution_count": 10,
     "metadata": {},
     "output_type": "execute_result"
    },
    {
     "data": {
      "image/png": "[encoded data removed]",
      "text/plain": [
       "<Figure size 640x480 with 1 Axes>"
      ]
     },
     "metadata": {},
     "output_type": "display_data"
    }
   ],
   "source": [
    "# Plot the proportion of both labels\n",
    "sns.barplot(x= credit_df[\"default.payment.next.month\"].value_counts().index\n",
    "           ,y= credit_df[\"default.payment.next.month\"].value_counts())"
   ]
  },
  {
   "cell_type": "code",
   "execution_count": 17,
   "id": "da8d2faa",
   "metadata": {
    "ExecuteTime": {
     "end_time": "2023-05-12T04:22:23.308432Z",
     "start_time": "2023-05-12T04:22:23.289756Z"
    }
   },
   "outputs": [
    {
     "name": "stdout",
     "output_type": "stream",
     "text": [
      "Default Label: 22.0 %\n",
      "Not Default Label: 77.9 %\n"
     ]
    }
   ],
   "source": [
    "proportion_true=str(round(sum(credit_df['default.payment.next.month'] == True) / len(credit_df['default.payment.next.month']), 2) * 100)\n",
    "proportion_false=str(round(sum(credit_df['default.payment.next.month'] == False) / len(credit_df['default.payment.next.month']), 3) * 100)\n",
    "\n",
    "print(f'Default Label: {proportion_true} %')\n",
    "print(f'Not Default Label: {proportion_false} %')"
   ]
  },
  {
   "cell_type": "markdown",
   "id": "aef84cd1",
   "metadata": {},
   "source": [
    "As the plot suggest, and as we would normally expect from a credit related data, we are dealing with an imbalanced target label, we can evaluate and use techniques of either:\n",
    "- Oversampling the Default Label\n",
    "    - The main issue to consider with oversampling is the possibility of overfitting the model.\n",
    "- Undersampling the Not Default Label\n",
    "    - The tradeoff of opting for undersampling would be a potential loss of classification performance.\n",
    "- Combination of undersampling and oversampling\n",
    "    - The concept is that we can apply a modest amount of oversampling to the minority class, which improves the bias to the minority class examples, whilst we also perform a modest amount of undersampling on the majority class to reduce the bias on the majority class examples.\n",
    "- SMOTE oversampling\n",
    "    - In SMOTE, new instances of the minority are interpolated. The drawbacks are the possibility of creating outliers.\n",
    "- Cluster Centroids Undersampling\n",
    "    - It identifies clusters of the majority class and generates synthetic datapoints then undersamples the majority class. Disadvantages of this method are an increased bias"
   ]
  },
  {
   "cell_type": "markdown",
   "id": "eedab3e0",
   "metadata": {},
   "source": [
    "## Remove Outliers"
   ]
  },
  {
   "cell_type": "code",
   "execution_count": 58,
   "id": "8aea2daf",
   "metadata": {
    "ExecuteTime": {
     "end_time": "2023-05-12T19:48:46.748143Z",
     "start_time": "2023-05-12T19:48:46.583077Z"
    }
   },
   "outputs": [
    {
     "data": {
      "text/html": [
       "<div>\n",
       "<style scoped>\n",
       "    .dataframe tbody tr th:only-of-type {\n",
       "        vertical-align: middle;\n",
       "    }\n",
       "\n",
       "    .dataframe tbody tr th {\n",
       "        vertical-align: top;\n",
       "    }\n",
       "\n",
       "    .dataframe thead th {\n",
       "        text-align: right;\n",
       "    }\n",
       "</style>\n",
       "<table border=\"1\" class=\"dataframe\">\n",
       "  <thead>\n",
       "    <tr style=\"text-align: right;\">\n",
       "      <th></th>\n",
       "      <th>ID</th>\n",
       "      <th>LIMIT_BAL</th>\n",
       "      <th>SEX</th>\n",
       "      <th>EDUCATION</th>\n",
       "      <th>MARRIAGE</th>\n",
       "      <th>AGE</th>\n",
       "      <th>PAY_0</th>\n",
       "      <th>PAY_2</th>\n",
       "      <th>PAY_3</th>\n",
       "      <th>PAY_4</th>\n",
       "      <th>...</th>\n",
       "      <th>BILL_AMT4</th>\n",
       "      <th>BILL_AMT5</th>\n",
       "      <th>BILL_AMT6</th>\n",
       "      <th>PAY_AMT1</th>\n",
       "      <th>PAY_AMT2</th>\n",
       "      <th>PAY_AMT3</th>\n",
       "      <th>PAY_AMT4</th>\n",
       "      <th>PAY_AMT5</th>\n",
       "      <th>PAY_AMT6</th>\n",
       "      <th>default.payment.next.month</th>\n",
       "    </tr>\n",
       "  </thead>\n",
       "  <tbody>\n",
       "    <tr>\n",
       "      <th>count</th>\n",
       "      <td>23651.000000</td>\n",
       "      <td>23651.000000</td>\n",
       "      <td>23651.000000</td>\n",
       "      <td>23651.000000</td>\n",
       "      <td>23651.000000</td>\n",
       "      <td>23651.000000</td>\n",
       "      <td>23651.000000</td>\n",
       "      <td>23651.000000</td>\n",
       "      <td>23651.000000</td>\n",
       "      <td>23651.000000</td>\n",
       "      <td>...</td>\n",
       "      <td>23651.000000</td>\n",
       "      <td>23651.000000</td>\n",
       "      <td>23651.000000</td>\n",
       "      <td>23651.000000</td>\n",
       "      <td>23651.000000</td>\n",
       "      <td>23651.000000</td>\n",
       "      <td>23651.000000</td>\n",
       "      <td>23651.000000</td>\n",
       "      <td>23651.000000</td>\n",
       "      <td>23651.000000</td>\n",
       "    </tr>\n",
       "    <tr>\n",
       "      <th>mean</th>\n",
       "      <td>14926.493383</td>\n",
       "      <td>145357.574733</td>\n",
       "      <td>1.610756</td>\n",
       "      <td>1.866686</td>\n",
       "      <td>1.556594</td>\n",
       "      <td>35.265443</td>\n",
       "      <td>-0.053148</td>\n",
       "      <td>-0.189041</td>\n",
       "      <td>-0.230265</td>\n",
       "      <td>-0.302059</td>\n",
       "      <td>...</td>\n",
       "      <td>25129.628219</td>\n",
       "      <td>22872.829310</td>\n",
       "      <td>21787.131411</td>\n",
       "      <td>3055.774640</td>\n",
       "      <td>2941.832142</td>\n",
       "      <td>2565.274788</td>\n",
       "      <td>2251.762674</td>\n",
       "      <td>2251.471397</td>\n",
       "      <td>2383.429707</td>\n",
       "      <td>0.227094</td>\n",
       "    </tr>\n",
       "    <tr>\n",
       "      <th>std</th>\n",
       "      <td>8658.808004</td>\n",
       "      <td>116388.443988</td>\n",
       "      <td>0.487589</td>\n",
       "      <td>0.781787</td>\n",
       "      <td>0.523729</td>\n",
       "      <td>9.316914</td>\n",
       "      <td>1.070579</td>\n",
       "      <td>1.158475</td>\n",
       "      <td>1.152293</td>\n",
       "      <td>1.105131</td>\n",
       "      <td>...</td>\n",
       "      <td>30113.359536</td>\n",
       "      <td>28149.813509</td>\n",
       "      <td>27641.704155</td>\n",
       "      <td>4238.208116</td>\n",
       "      <td>4192.641013</td>\n",
       "      <td>3920.784687</td>\n",
       "      <td>3532.614573</td>\n",
       "      <td>3452.436323</td>\n",
       "      <td>4226.652130</td>\n",
       "      <td>0.418963</td>\n",
       "    </tr>\n",
       "    <tr>\n",
       "      <th>min</th>\n",
       "      <td>1.000000</td>\n",
       "      <td>10000.000000</td>\n",
       "      <td>1.000000</td>\n",
       "      <td>0.000000</td>\n",
       "      <td>0.000000</td>\n",
       "      <td>21.000000</td>\n",
       "      <td>-2.000000</td>\n",
       "      <td>-2.000000</td>\n",
       "      <td>-2.000000</td>\n",
       "      <td>-2.000000</td>\n",
       "      <td>...</td>\n",
       "      <td>-46627.000000</td>\n",
       "      <td>-46627.000000</td>\n",
       "      <td>-46627.000000</td>\n",
       "      <td>0.000000</td>\n",
       "      <td>0.000000</td>\n",
       "      <td>0.000000</td>\n",
       "      <td>0.000000</td>\n",
       "      <td>0.000000</td>\n",
       "      <td>0.000000</td>\n",
       "      <td>0.000000</td>\n",
       "    </tr>\n",
       "    <tr>\n",
       "      <th>25%</th>\n",
       "      <td>7423.500000</td>\n",
       "      <td>50000.000000</td>\n",
       "      <td>1.000000</td>\n",
       "      <td>1.000000</td>\n",
       "      <td>1.000000</td>\n",
       "      <td>28.000000</td>\n",
       "      <td>-1.000000</td>\n",
       "      <td>-1.000000</td>\n",
       "      <td>-1.000000</td>\n",
       "      <td>-1.000000</td>\n",
       "      <td>...</td>\n",
       "      <td>1261.000000</td>\n",
       "      <td>894.000000</td>\n",
       "      <td>626.500000</td>\n",
       "      <td>640.000000</td>\n",
       "      <td>486.000000</td>\n",
       "      <td>279.000000</td>\n",
       "      <td>80.500000</td>\n",
       "      <td>3.500000</td>\n",
       "      <td>0.000000</td>\n",
       "      <td>0.000000</td>\n",
       "    </tr>\n",
       "    <tr>\n",
       "      <th>50%</th>\n",
       "      <td>14891.000000</td>\n",
       "      <td>110000.000000</td>\n",
       "      <td>2.000000</td>\n",
       "      <td>2.000000</td>\n",
       "      <td>2.000000</td>\n",
       "      <td>34.000000</td>\n",
       "      <td>0.000000</td>\n",
       "      <td>0.000000</td>\n",
       "      <td>0.000000</td>\n",
       "      <td>0.000000</td>\n",
       "      <td>...</td>\n",
       "      <td>14691.000000</td>\n",
       "      <td>12580.000000</td>\n",
       "      <td>10614.000000</td>\n",
       "      <td>2000.000000</td>\n",
       "      <td>1850.000000</td>\n",
       "      <td>1457.000000</td>\n",
       "      <td>1039.000000</td>\n",
       "      <td>1064.000000</td>\n",
       "      <td>1000.000000</td>\n",
       "      <td>0.000000</td>\n",
       "    </tr>\n",
       "    <tr>\n",
       "      <th>75%</th>\n",
       "      <td>22372.500000</td>\n",
       "      <td>210000.000000</td>\n",
       "      <td>2.000000</td>\n",
       "      <td>2.000000</td>\n",
       "      <td>2.000000</td>\n",
       "      <td>41.000000</td>\n",
       "      <td>0.000000</td>\n",
       "      <td>0.000000</td>\n",
       "      <td>0.000000</td>\n",
       "      <td>0.000000</td>\n",
       "      <td>...</td>\n",
       "      <td>37643.500000</td>\n",
       "      <td>31194.500000</td>\n",
       "      <td>30067.500000</td>\n",
       "      <td>3700.000000</td>\n",
       "      <td>3500.000000</td>\n",
       "      <td>3000.000000</td>\n",
       "      <td>2910.500000</td>\n",
       "      <td>3000.000000</td>\n",
       "      <td>2937.500000</td>\n",
       "      <td>0.000000</td>\n",
       "    </tr>\n",
       "    <tr>\n",
       "      <th>max</th>\n",
       "      <td>30000.000000</td>\n",
       "      <td>550000.000000</td>\n",
       "      <td>2.000000</td>\n",
       "      <td>6.000000</td>\n",
       "      <td>3.000000</td>\n",
       "      <td>75.000000</td>\n",
       "      <td>3.000000</td>\n",
       "      <td>3.000000</td>\n",
       "      <td>3.000000</td>\n",
       "      <td>3.000000</td>\n",
       "      <td>...</td>\n",
       "      <td>153551.000000</td>\n",
       "      <td>132948.000000</td>\n",
       "      <td>120398.000000</td>\n",
       "      <td>36396.000000</td>\n",
       "      <td>35157.000000</td>\n",
       "      <td>31200.000000</td>\n",
       "      <td>28800.000000</td>\n",
       "      <td>27106.000000</td>\n",
       "      <td>39544.000000</td>\n",
       "      <td>1.000000</td>\n",
       "    </tr>\n",
       "  </tbody>\n",
       "</table>\n",
       "<p>8 rows × 25 columns</p>\n",
       "</div>"
      ],
      "text/plain": [
       "                 ID      LIMIT_BAL           SEX     EDUCATION      MARRIAGE  \\\n",
       "count  23651.000000   23651.000000  23651.000000  23651.000000  23651.000000   \n",
       "mean   14926.493383  145357.574733      1.610756      1.866686      1.556594   \n",
       "std     8658.808004  116388.443988      0.487589      0.781787      0.523729   \n",
       "min        1.000000   10000.000000      1.000000      0.000000      0.000000   \n",
       "25%     7423.500000   50000.000000      1.000000      1.000000      1.000000   \n",
       "50%    14891.000000  110000.000000      2.000000      2.000000      2.000000   \n",
       "75%    22372.500000  210000.000000      2.000000      2.000000      2.000000   \n",
       "max    30000.000000  550000.000000      2.000000      6.000000      3.000000   \n",
       "\n",
       "                AGE         PAY_0         PAY_2         PAY_3         PAY_4  \\\n",
       "count  23651.000000  23651.000000  23651.000000  23651.000000  23651.000000   \n",
       "mean      35.265443     -0.053148     -0.189041     -0.230265     -0.302059   \n",
       "std        9.316914      1.070579      1.158475      1.152293      1.105131   \n",
       "min       21.000000     -2.000000     -2.000000     -2.000000     -2.000000   \n",
       "25%       28.000000     -1.000000     -1.000000     -1.000000     -1.000000   \n",
       "50%       34.000000      0.000000      0.000000      0.000000      0.000000   \n",
       "75%       41.000000      0.000000      0.000000      0.000000      0.000000   \n",
       "max       75.000000      3.000000      3.000000      3.000000      3.000000   \n",
       "\n",
       "       ...      BILL_AMT4      BILL_AMT5      BILL_AMT6      PAY_AMT1  \\\n",
       "count  ...   23651.000000   23651.000000   23651.000000  23651.000000   \n",
       "mean   ...   25129.628219   22872.829310   21787.131411   3055.774640   \n",
       "std    ...   30113.359536   28149.813509   27641.704155   4238.208116   \n",
       "min    ...  -46627.000000  -46627.000000  -46627.000000      0.000000   \n",
       "25%    ...    1261.000000     894.000000     626.500000    640.000000   \n",
       "50%    ...   14691.000000   12580.000000   10614.000000   2000.000000   \n",
       "75%    ...   37643.500000   31194.500000   30067.500000   3700.000000   \n",
       "max    ...  153551.000000  132948.000000  120398.000000  36396.000000   \n",
       "\n",
       "           PAY_AMT2      PAY_AMT3      PAY_AMT4      PAY_AMT5      PAY_AMT6  \\\n",
       "count  23651.000000  23651.000000  23651.000000  23651.000000  23651.000000   \n",
       "mean    2941.832142   2565.274788   2251.762674   2251.471397   2383.429707   \n",
       "std     4192.641013   3920.784687   3532.614573   3452.436323   4226.652130   \n",
       "min        0.000000      0.000000      0.000000      0.000000      0.000000   \n",
       "25%      486.000000    279.000000     80.500000      3.500000      0.000000   \n",
       "50%     1850.000000   1457.000000   1039.000000   1064.000000   1000.000000   \n",
       "75%     3500.000000   3000.000000   2910.500000   3000.000000   2937.500000   \n",
       "max    35157.000000  31200.000000  28800.000000  27106.000000  39544.000000   \n",
       "\n",
       "       default.payment.next.month  \n",
       "count                23651.000000  \n",
       "mean                     0.227094  \n",
       "std                      0.418963  \n",
       "min                      0.000000  \n",
       "25%                      0.000000  \n",
       "50%                      0.000000  \n",
       "75%                      0.000000  \n",
       "max                      1.000000  \n",
       "\n",
       "[8 rows x 25 columns]"
      ]
     },
     "execution_count": 58,
     "metadata": {},
     "output_type": "execute_result"
    }
   ],
   "source": [
    "# Define columns\n",
    "column_outliers = ['ID', 'LIMIT_BAL','PAY_0',\n",
    "       'PAY_2', 'PAY_3', 'PAY_4', 'PAY_5', 'PAY_6', 'BILL_AMT1', 'BILL_AMT2',\n",
    "       'BILL_AMT3', 'BILL_AMT4', 'BILL_AMT5', 'BILL_AMT6', 'PAY_AMT1',\n",
    "       'PAY_AMT2', 'PAY_AMT3', 'PAY_AMT4', 'PAY_AMT5', 'PAY_AMT6']\n",
    "\n",
    "# Use function to remove outliers\n",
    "df_clean = remove_outliers(credit_df, column_outliers,z_threshold= 3)\n",
    "df_clean.describe()"
   ]
  },
  {
   "cell_type": "markdown",
   "id": "684799f9",
   "metadata": {},
   "source": [
    "# Feature Engineering"
   ]
  },
  {
   "cell_type": "markdown",
   "id": "17339152",
   "metadata": {},
   "source": [
    "## Feature Binning"
   ]
  },
  {
   "cell_type": "code",
   "execution_count": 54,
   "id": "216bb1e4",
   "metadata": {
    "ExecuteTime": {
     "end_time": "2023-05-12T18:55:33.356969Z",
     "start_time": "2023-05-12T18:55:33.298981Z"
    }
   },
   "outputs": [
    {
     "data": {
      "text/plain": [
       "{'ID': 32,\n",
       " 'LIMIT_BAL': 12,\n",
       " 'SEX': 1,\n",
       " 'EDUCATION': 6,\n",
       " 'MARRIAGE': 3,\n",
       " 'AGE': 9,\n",
       " 'PAY_0': 12,\n",
       " 'PAY_2': 12,\n",
       " 'PAY_3': 12,\n",
       " 'PAY_4': 12,\n",
       " 'PAY_5': 11,\n",
       " 'PAY_6': 11,\n",
       " 'BILL_AMT1': 252,\n",
       " 'BILL_AMT2': 244,\n",
       " 'BILL_AMT3': 444,\n",
       " 'BILL_AMT4': 284,\n",
       " 'BILL_AMT5': 288,\n",
       " 'BILL_AMT6': 373,\n",
       " 'PAY_AMT1': 2176,\n",
       " 'PAY_AMT2': 4025,\n",
       " 'PAY_AMT3': 2133,\n",
       " 'PAY_AMT4': 1594,\n",
       " 'PAY_AMT5': 1075,\n",
       " 'PAY_AMT6': 1299,\n",
       " 'default.payment.next.month': 1}"
      ]
     },
     "execution_count": 54,
     "metadata": {},
     "output_type": "execute_result"
    }
   ],
   "source": [
    "# Determine the number of bins\n",
    "num_bins_dict = determine_num_bins(credit_df, method='freedman-diaconis')\n",
    "num_bins_dict"
   ]
  },
  {
   "cell_type": "code",
   "execution_count": 52,
   "id": "fba8ae84",
   "metadata": {
    "ExecuteTime": {
     "end_time": "2023-05-12T18:54:40.170758Z",
     "start_time": "2023-05-12T18:54:40.087299Z"
    }
   },
   "outputs": [],
   "source": [
    "# Perform feature binning using equal frequency binning\n",
    "features_to_bin = ['AGE','EDUCATION','LIMIT_BAL'\n",
    "                   ,'PAY_0','PAY_2','PAY_3'\n",
    "                   ,'PAY_4','PAY_5','PAY_6']\n",
    "df_binned = equal_frequency_binning(credit_df,features_to_bin,num_bins_dict)"
   ]
  },
  {
   "cell_type": "markdown",
   "id": "a381fbb9",
   "metadata": {},
   "source": [
    "## Oversample"
   ]
  },
  {
   "cell_type": "code",
   "execution_count": 67,
   "id": "9f07f97b",
   "metadata": {
    "ExecuteTime": {
     "end_time": "2023-05-12T20:06:55.240168Z",
     "start_time": "2023-05-12T20:06:55.214528Z"
    }
   },
   "outputs": [],
   "source": [
    "# Define X and y for your features and target variable\n",
    "X = df_binned.drop('default.payment.next.month', axis = 1)\n",
    "y = df_binned['default.payment.next.month']"
   ]
  },
  {
   "cell_type": "code",
   "execution_count": 69,
   "id": "996bfcc5",
   "metadata": {
    "ExecuteTime": {
     "end_time": "2023-05-12T20:08:12.000811Z",
     "start_time": "2023-05-12T20:08:11.259305Z"
    }
   },
   "outputs": [],
   "source": [
    "# Oversample the data using SMOTE\n",
    "X_resampled,y_resampled = perform_sampling(X,y,'smote')"
   ]
  },
  {
   "cell_type": "markdown",
   "id": "2aa32649",
   "metadata": {},
   "source": [
    "## Scale and Normalize the features"
   ]
  },
  {
   "cell_type": "code",
   "execution_count": 97,
   "id": "d154350f",
   "metadata": {
    "ExecuteTime": {
     "end_time": "2023-05-12T20:35:58.167706Z",
     "start_time": "2023-05-12T20:35:58.129461Z"
    }
   },
   "outputs": [],
   "source": [
    "# Split into training and testing\n",
    "X_train, X_test, y_train, y_test = train_test_split(X, y, test_size=0.3)\n",
    "\n",
    "# Create a scaler object\n",
    "scaler = StandardScaler()\n",
    "\n",
    "# Fit the scaler on the training data\n",
    "scaler.fit(X_train)\n",
    "\n",
    "# Apply the scaler to the training and test sets\n",
    "X_train_scaled = scaler.transform(X_train)\n",
    "X_test_scaled = scaler.transform(X_test)"
   ]
  },
  {
   "cell_type": "markdown",
   "id": "410df4ac",
   "metadata": {
    "ExecuteTime": {
     "end_time": "2023-05-12T20:17:11.610346Z",
     "start_time": "2023-05-12T20:17:11.466677Z"
    }
   },
   "source": [
    "## Perform PCA"
   ]
  },
  {
   "cell_type": "code",
   "execution_count": 112,
   "id": "1b20ce9c",
   "metadata": {
    "ExecuteTime": {
     "end_time": "2023-05-12T20:43:09.968779Z",
     "start_time": "2023-05-12T20:43:09.860427Z"
    }
   },
   "outputs": [],
   "source": [
    "# Perform PCA and get transformed features and num_components\n",
    "X_train_transformedd, num_components = perform_pca(X_train_scaled)\n",
    "X_test_transformed, num_components = perform_pca(X_test_scaled)"
   ]
  },
  {
   "cell_type": "markdown",
   "id": "0ba7a7ad",
   "metadata": {},
   "source": [
    "# Logistic Regression"
   ]
  },
  {
   "cell_type": "code",
   "execution_count": 113,
   "id": "3bf6ddd3",
   "metadata": {
    "ExecuteTime": {
     "end_time": "2023-05-12T20:43:11.156261Z",
     "start_time": "2023-05-12T20:43:11.090722Z"
    }
   },
   "outputs": [
    {
     "data": {
      "text/plain": [
       "0.7942222222222223"
      ]
     },
     "execution_count": 113,
     "metadata": {},
     "output_type": "execute_result"
    }
   ],
   "source": [
    "# Create a logistic regression model\n",
    "model = LogisticRegression()\n",
    "\n",
    "# Fit the model on the transformed features\n",
    "model.fit(transformed_df, y_train)\n",
    "\n",
    "# Make predictions on the transformed test features\n",
    "predictions = model.predict(X_test_transformed)\n",
    "\n",
    "# Evaluate the model on the scaled test data\n",
    "accuracy = model.score(X_test_transformed, y_test)\n",
    "accuracy"
   ]
  },
  {
   "cell_type": "markdown",
   "id": "dd2e1258",
   "metadata": {},
   "source": [
    "## Classfication Report"
   ]
  },
  {
   "cell_type": "code",
   "execution_count": 114,
   "id": "949e5eb6",
   "metadata": {
    "ExecuteTime": {
     "end_time": "2023-05-12T20:43:12.830523Z",
     "start_time": "2023-05-12T20:43:12.800129Z"
    }
   },
   "outputs": [
    {
     "name": "stdout",
     "output_type": "stream",
     "text": [
      "              precision    recall  f1-score      support\n",
      "0              0.805579  0.970525  0.880393  7023.000000\n",
      "1              0.615955  0.167931  0.263911  1977.000000\n",
      "accuracy       0.794222  0.794222  0.794222     0.794222\n",
      "macro avg      0.710767  0.569228  0.572152  9000.000000\n",
      "weighted avg   0.763925  0.794222  0.744972  9000.000000\n"
     ]
    }
   ],
   "source": [
    "# Calculate classification report\n",
    "report = classification_report(y_test, predictions, output_dict=True)\n",
    "\n",
    "# Convert report to DataFrame\n",
    "df_report = pd.DataFrame(report).transpose()\n",
    "\n",
    "# Print the DataFrame\n",
    "print(df_report)"
   ]
  },
  {
   "cell_type": "markdown",
   "id": "b5da0fb6",
   "metadata": {},
   "source": [
    "## Confusion Matrix"
   ]
  },
  {
   "cell_type": "code",
   "execution_count": 115,
   "id": "5cfa7144",
   "metadata": {
    "ExecuteTime": {
     "end_time": "2023-05-12T20:43:14.213678Z",
     "start_time": "2023-05-12T20:43:14.196122Z"
    }
   },
   "outputs": [
    {
     "data": {
      "text/html": [
       "<div>\n",
       "<style scoped>\n",
       "    .dataframe tbody tr th:only-of-type {\n",
       "        vertical-align: middle;\n",
       "    }\n",
       "\n",
       "    .dataframe tbody tr th {\n",
       "        vertical-align: top;\n",
       "    }\n",
       "\n",
       "    .dataframe thead th {\n",
       "        text-align: right;\n",
       "    }\n",
       "</style>\n",
       "<table border=\"1\" class=\"dataframe\">\n",
       "  <thead>\n",
       "    <tr style=\"text-align: right;\">\n",
       "      <th></th>\n",
       "      <th>Predicted Negative</th>\n",
       "      <th>Predicted Positive</th>\n",
       "    </tr>\n",
       "  </thead>\n",
       "  <tbody>\n",
       "    <tr>\n",
       "      <th>Actual Negative</th>\n",
       "      <td>6816</td>\n",
       "      <td>207</td>\n",
       "    </tr>\n",
       "    <tr>\n",
       "      <th>Actual Positive</th>\n",
       "      <td>1645</td>\n",
       "      <td>332</td>\n",
       "    </tr>\n",
       "  </tbody>\n",
       "</table>\n",
       "</div>"
      ],
      "text/plain": [
       "                 Predicted Negative  Predicted Positive\n",
       "Actual Negative                6816                 207\n",
       "Actual Positive                1645                 332"
      ]
     },
     "execution_count": 115,
     "metadata": {},
     "output_type": "execute_result"
    }
   ],
   "source": [
    "# Calculate confusion matrix\n",
    "cm = confusion_matrix(y_test, predictions)\n",
    "\n",
    "# Convert confusion matrix to DataFrame\n",
    "cm_df = pd.DataFrame(cm, index=['Actual Negative', 'Actual Positive'], columns=['Predicted Negative', 'Predicted Positive'])\n",
    "\n",
    "# Print the confusion matrix\n",
    "cm_df"
   ]
  },
  {
   "cell_type": "code",
   "execution_count": 116,
   "id": "6b341906",
   "metadata": {
    "ExecuteTime": {
     "end_time": "2023-05-12T20:43:15.502022Z",
     "start_time": "2023-05-12T20:43:15.323745Z"
    },
    "scrolled": false
   },
   "outputs": [
    {
     "data": {
      "image/png": "[encoded data removed]",
      "text/plain": [
       "<Figure size 640x480 with 1 Axes>"
      ]
     },
     "metadata": {},
     "output_type": "display_data"
    }
   ],
   "source": [
    "# Calculate the probabilities for the positive class\n",
    "train_probs = model.predict_proba(X_train_transformed)[:, 1]\n",
    "test_probs = model.predict_proba(X_test_transformed)[:, 1]\n",
    "\n",
    "# Calculate the false positive rate, true positive rate, and thresholds\n",
    "train_fpr, train_tpr, train_thresholds = roc_curve(y_train, train_probs)\n",
    "test_fpr, test_tpr, test_thresholds = roc_curve(y_test, test_probs)\n",
    "\n",
    "# Calculate the AUC scores\n",
    "train_auc = roc_auc_score(y_train, train_probs)\n",
    "test_auc = roc_auc_score(y_test, test_probs)\n",
    "\n",
    "# Plot the ROC curves\n",
    "plt.plot(train_fpr, train_tpr, label='Train ROC Curve (AUC = {:.2f})'.format(train_auc))\n",
    "plt.plot(test_fpr, test_tpr, label='Test ROC Curve (AUC = {:.2f})'.format(test_auc))\n",
    "\n",
    "# Plot the random chance line\n",
    "plt.plot([0, 1], [0, 1], 'k--', label='Random Chance')\n",
    "\n",
    "# Set the x-axis and y-axis limits\n",
    "plt.xlim([0.0, 1.0])\n",
    "plt.ylim([0.0, 1.05])\n",
    "\n",
    "# Set the labels and title\n",
    "plt.xlabel('False Positive Rate')\n",
    "plt.ylabel('True Positive Rate')\n",
    "plt.title('Receiver Operating Characteristic (ROC) Curve')\n",
    "plt.legend()\n",
    "\n",
    "# Display the plot\n",
    "plt.show()"
   ]
  },
  {
   "cell_type": "markdown",
   "id": "f412f655",
   "metadata": {},
   "source": [
    "# Random Forest"
   ]
  },
  {
   "cell_type": "code",
   "execution_count": null,
   "id": "fa7140e4",
   "metadata": {},
   "outputs": [],
   "source": [
    "from sklearn.metrics import confusion_matrix\n",
    "\n",
    "# Calculate confusion matrix\n",
    "cm = confusion_matrix(y_test, predictions)\n",
    "\n",
    "# Print the confusion matrix\n",
    "print(\"Confusion Matrix:\")\n",
    "print(cm)"
   ]
  },
  {
   "cell_type": "markdown",
   "id": "03f2cd2c",
   "metadata": {},
   "source": [
    "# XGBoost"
   ]
  },
  {
   "cell_type": "code",
   "execution_count": 126,
   "id": "3261184a",
   "metadata": {
    "ExecuteTime": {
     "end_time": "2023-05-12T20:52:53.034917Z",
     "start_time": "2023-05-12T20:52:53.026623Z"
    }
   },
   "outputs": [],
   "source": [
    "xgb_model = xgb.XGBClassifier(\n",
    "    n_estimators=100,  # Number of trees (you can adjust this)\n",
    "    max_depth=3,  # Maximum tree depth (you can adjust this)\n",
    "    learning_rate=0.1,  # Learning rate (you can adjust this)\n",
    "    random_state=42  # Set a random seed for reproducibility\n",
    ")"
   ]
  },
  {
   "cell_type": "code",
   "execution_count": 127,
   "id": "1b4034fb",
   "metadata": {
    "ExecuteTime": {
     "end_time": "2023-05-12T20:52:55.083832Z",
     "start_time": "2023-05-12T20:52:54.210933Z"
    }
   },
   "outputs": [
    {
     "data": {
      "text/plain": [
       "XGBClassifier(base_score=0.5, booster='gbtree', callbacks=None,\n",
       "              colsample_bylevel=1, colsample_bynode=1, colsample_bytree=1,\n",
       "              early_stopping_rounds=None, enable_categorical=False,\n",
       "              eval_metric=None, gamma=0, gpu_id=-1, grow_policy='depthwise',\n",
       "              importance_type=None, interaction_constraints='',\n",
       "              learning_rate=0.1, max_bin=256, max_cat_to_onehot=4,\n",
       "              max_delta_step=0, max_depth=3, max_leaves=0, min_child_weight=1,\n",
       "              missing=nan, monotone_constraints='()', n_estimators=100,\n",
       "              n_jobs=0, num_parallel_tree=1, predictor='auto', random_state=42,\n",
       "              reg_alpha=0, reg_lambda=1, ...)"
      ]
     },
     "execution_count": 127,
     "metadata": {},
     "output_type": "execute_result"
    }
   ],
   "source": [
    "xgb_model.fit(X_train_transformed, y_train)"
   ]
  },
  {
   "cell_type": "code",
   "execution_count": 128,
   "id": "f9d136d4",
   "metadata": {
    "ExecuteTime": {
     "end_time": "2023-05-12T20:53:10.523535Z",
     "start_time": "2023-05-12T20:53:10.502216Z"
    }
   },
   "outputs": [],
   "source": [
    "y_pred = xgb_model.predict(X_test_transformed)"
   ]
  },
  {
   "cell_type": "code",
   "execution_count": 129,
   "id": "94f4016a",
   "metadata": {
    "ExecuteTime": {
     "end_time": "2023-05-12T20:53:19.810949Z",
     "start_time": "2023-05-12T20:53:19.799114Z"
    }
   },
   "outputs": [
    {
     "name": "stdout",
     "output_type": "stream",
     "text": [
      "Accuracy: 0.7985555555555556\n"
     ]
    }
   ],
   "source": [
    "accuracy = accuracy_score(y_test, y_pred)\n",
    "print(\"Accuracy:\", accuracy)"
   ]
  },
  {
   "cell_type": "code",
   "execution_count": 130,
   "id": "7935253f",
   "metadata": {
    "ExecuteTime": {
     "end_time": "2023-05-12T20:53:28.062708Z",
     "start_time": "2023-05-12T20:53:28.032914Z"
    }
   },
   "outputs": [
    {
     "name": "stdout",
     "output_type": "stream",
     "text": [
      "ROC AUC: 0.720360934168828\n"
     ]
    }
   ],
   "source": [
    "y_pred_proba = xgb_model.predict_proba(X_test_transformed)[:, 1]\n",
    "roc_auc = roc_auc_score(y_test, y_pred_proba)\n",
    "print(\"ROC AUC:\", roc_auc)"
   ]
  },
  {
   "cell_type": "code",
   "execution_count": null,
   "id": "8f447153",
   "metadata": {},
   "outputs": [],
   "source": []
  }
 ],
 "metadata": {
  "kernelspec": {
   "display_name": "mlenv",
   "language": "python",
   "name": "mlenv"
  },
  "language_info": {
   "codemirror_mode": {
    "name": "ipython",
    "version": 3
   },
   "file_extension": ".py",
   "mimetype": "text/x-python",
   "name": "python",
   "nbconvert_exporter": "python",
   "pygments_lexer": "ipython3",
   "version": "3.7.13"
  },
  "toc": {
   "base_numbering": 1,
   "nav_menu": {},
   "number_sections": true,
   "sideBar": true,
   "skip_h1_title": false,
   "title_cell": "Table of Contents",
   "title_sidebar": "Contents",
   "toc_cell": false,
   "toc_position": {},
   "toc_section_display": true,
   "toc_window_display": false
  }
 },
 "nbformat": 4,
 "nbformat_minor": 5
}
